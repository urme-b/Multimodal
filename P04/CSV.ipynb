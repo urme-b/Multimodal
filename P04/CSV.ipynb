{
 "cells": [
  {
   "cell_type": "code",
   "execution_count": 2,
   "id": "0414de7d-8513-4fe5-9ca8-788f8cfc112a",
   "metadata": {},
   "outputs": [
    {
     "data": {
      "text/plain": [
       "'/Users/urmebose/Desktop/Style/P04/Nuro/hr.csv'"
      ]
     },
     "execution_count": 2,
     "metadata": {},
     "output_type": "execute_result"
    }
   ],
   "source": [
    "import pandas as pd\n",
    "\n",
    "# Load the txt file using ';' as delimiter\n",
    "file_path = '/Users/urmebose/Desktop/Style/P04/Nuro/hr.txt'\n",
    "df = pd.read_csv(file_path, delimiter=';')\n",
    "\n",
    "# Save the dataframe to a CSV file\n",
    "csv_file_path = '/Users/urmebose/Desktop/Style/P04/Nuro/hr.csv'\n",
    "df.to_csv(csv_file_path, index=False)\n",
    "\n",
    "csv_file_path"
   ]
  },
  {
   "cell_type": "code",
   "execution_count": 4,
   "id": "4a616c2a-0626-40fd-8a74-e8d7af88d17b",
   "metadata": {},
   "outputs": [
    {
     "data": {
      "text/plain": [
       "'/Users/urmebose/Desktop/Style/P04/Nuro/hr_01.csv'"
      ]
     },
     "execution_count": 4,
     "metadata": {},
     "output_type": "execute_result"
    }
   ],
   "source": [
    "import pandas as pd\n",
    "\n",
    "# Load the txt file using ';' as delimiter\n",
    "file_path = '/Users/urmebose/Desktop/Style/P04/Nuro/hr_01.txt'\n",
    "df = pd.read_csv(file_path, delimiter=';')\n",
    "\n",
    "# Save the dataframe to a CSV file\n",
    "csv_file_path = '/Users/urmebose/Desktop/Style/P04/Nuro/hr_01.csv'\n",
    "df.to_csv(csv_file_path, index=False)\n",
    "\n",
    "csv_file_path"
   ]
  },
  {
   "cell_type": "code",
   "execution_count": 6,
   "id": "831e8977-46eb-4a19-8cfb-58503fa79cc6",
   "metadata": {},
   "outputs": [
    {
     "data": {
      "text/plain": [
       "'/Users/urmebose/Desktop/Style/P04/Nuro/hr_02.csv'"
      ]
     },
     "execution_count": 6,
     "metadata": {},
     "output_type": "execute_result"
    }
   ],
   "source": [
    "import pandas as pd\n",
    "\n",
    "# Load the txt file using ';' as delimiter\n",
    "file_path = '/Users/urmebose/Desktop/Style/P04/Nuro/hr_02.txt'\n",
    "df = pd.read_csv(file_path, delimiter=';')\n",
    "\n",
    "# Save the dataframe to a CSV file\n",
    "csv_file_path = '/Users/urmebose/Desktop/Style/P04/Nuro/hr_02.csv'\n",
    "df.to_csv(csv_file_path, index=False)\n",
    "\n",
    "csv_file_path"
   ]
  },
  {
   "cell_type": "code",
   "execution_count": 8,
   "id": "0f7565f4-1891-4633-b0ec-ae95a55f726c",
   "metadata": {},
   "outputs": [
    {
     "data": {
      "text/plain": [
       "'/Users/urmebose/Desktop/Style/P04/Nuro/hr_03.csv'"
      ]
     },
     "execution_count": 8,
     "metadata": {},
     "output_type": "execute_result"
    }
   ],
   "source": [
    "import pandas as pd\n",
    "\n",
    "# Load the txt file using ';' as delimiter\n",
    "file_path = '/Users/urmebose/Desktop/Style/P04/Nuro/hr_03.txt'\n",
    "df = pd.read_csv(file_path, delimiter=';')\n",
    "\n",
    "# Save the dataframe to a CSV file\n",
    "csv_file_path = '/Users/urmebose/Desktop/Style/P04/Nuro/hr_03.csv'\n",
    "df.to_csv(csv_file_path, index=False)\n",
    "\n",
    "csv_file_path"
   ]
  },
  {
   "cell_type": "code",
   "execution_count": 10,
   "id": "e63a28a3-6984-4e0e-8aa1-f395d0259100",
   "metadata": {},
   "outputs": [
    {
     "data": {
      "text/plain": [
       "'/Users/urmebose/Desktop/Style/P04/Nuro/ibi.csv'"
      ]
     },
     "execution_count": 10,
     "metadata": {},
     "output_type": "execute_result"
    }
   ],
   "source": [
    "import pandas as pd\n",
    "\n",
    "# Load the txt file using ';' as delimiter\n",
    "file_path = '/Users/urmebose/Desktop/Style/P04/Nuro/ibi.txt'\n",
    "df = pd.read_csv(file_path, delimiter=';')\n",
    "\n",
    "# Save the dataframe to a CSV file\n",
    "csv_file_path = '/Users/urmebose/Desktop/Style/P04/Nuro/ibi.csv'\n",
    "df.to_csv(csv_file_path, index=False)\n",
    "\n",
    "csv_file_path"
   ]
  },
  {
   "cell_type": "code",
   "execution_count": 12,
   "id": "b7988c5b-2ba2-4bee-b5ee-5ef087215288",
   "metadata": {},
   "outputs": [
    {
     "data": {
      "text/plain": [
       "'/Users/urmebose/Desktop/Style/P04/Nuro/ibi_01.csv'"
      ]
     },
     "execution_count": 12,
     "metadata": {},
     "output_type": "execute_result"
    }
   ],
   "source": [
    "import pandas as pd\n",
    "\n",
    "# Load the txt file using ';' as delimiter\n",
    "file_path = '/Users/urmebose/Desktop/Style/P04/Nuro/ibi_01.txt'\n",
    "df = pd.read_csv(file_path, delimiter=';')\n",
    "\n",
    "# Save the dataframe to a CSV file\n",
    "csv_file_path = '/Users/urmebose/Desktop/Style/P04/Nuro/ibi_01.csv'\n",
    "df.to_csv(csv_file_path, index=False)\n",
    "\n",
    "csv_file_path"
   ]
  },
  {
   "cell_type": "code",
   "execution_count": 14,
   "id": "0119ab43-bea7-4bb0-8a33-c26663bf548c",
   "metadata": {},
   "outputs": [
    {
     "data": {
      "text/plain": [
       "'/Users/urmebose/Desktop/Style/P04/Nuro/ibi_02.csv'"
      ]
     },
     "execution_count": 14,
     "metadata": {},
     "output_type": "execute_result"
    }
   ],
   "source": [
    "import pandas as pd\n",
    "\n",
    "# Load the txt file using ';' as delimiter\n",
    "file_path = '/Users/urmebose/Desktop/Style/P04/Nuro/ibi_02.txt'\n",
    "df = pd.read_csv(file_path, delimiter=';')\n",
    "\n",
    "# Save the dataframe to a CSV file\n",
    "csv_file_path = '/Users/urmebose/Desktop/Style/P04/Nuro/ibi_02.csv'\n",
    "df.to_csv(csv_file_path, index=False)\n",
    "\n",
    "csv_file_path"
   ]
  },
  {
   "cell_type": "code",
   "execution_count": 16,
   "id": "a400ec36-956f-46e1-ae8b-15a0434add67",
   "metadata": {},
   "outputs": [
    {
     "data": {
      "text/plain": [
       "'/Users/urmebose/Desktop/Style/P04/Nuro/ibi_03.csv'"
      ]
     },
     "execution_count": 16,
     "metadata": {},
     "output_type": "execute_result"
    }
   ],
   "source": [
    "import pandas as pd\n",
    "\n",
    "# Load the txt file using ';' as delimiter\n",
    "file_path = '/Users/urmebose/Desktop/Style/P04/Nuro/ibi_03.txt'\n",
    "df = pd.read_csv(file_path, delimiter=';')\n",
    "\n",
    "# Save the dataframe to a CSV file\n",
    "csv_file_path = '/Users/urmebose/Desktop/Style/P04/Nuro/ibi_03.csv'\n",
    "df.to_csv(csv_file_path, index=False)\n",
    "\n",
    "csv_file_path"
   ]
  },
  {
   "cell_type": "code",
   "execution_count": 18,
   "id": "5198b79d-c5d9-49ae-821d-974a5e9732ef",
   "metadata": {},
   "outputs": [
    {
     "data": {
      "text/plain": [
       "'/Users/urmebose/Desktop/Style/P04/Nuro/sed.csv'"
      ]
     },
     "execution_count": 18,
     "metadata": {},
     "output_type": "execute_result"
    }
   ],
   "source": [
    "import pandas as pd\n",
    "\n",
    "# Load the txt file using ';' as delimiter\n",
    "file_path = '/Users/urmebose/Desktop/Style/P04/Nuro/sed.txt'\n",
    "df = pd.read_csv(file_path, delimiter=';')\n",
    "\n",
    "# Save the dataframe to a CSV file\n",
    "csv_file_path = '/Users/urmebose/Desktop/Style/P04/Nuro/sed.csv'\n",
    "df.to_csv(csv_file_path, index=False)\n",
    "\n",
    "csv_file_path"
   ]
  },
  {
   "cell_type": "code",
   "execution_count": 20,
   "id": "7c59bb17-17f7-424c-9bf6-f497dab85024",
   "metadata": {},
   "outputs": [
    {
     "data": {
      "text/plain": [
       "'/Users/urmebose/Desktop/Style/P04/Nuro/sed_01.csv'"
      ]
     },
     "execution_count": 20,
     "metadata": {},
     "output_type": "execute_result"
    }
   ],
   "source": [
    "import pandas as pd\n",
    "\n",
    "# Load the txt file using ';' as delimiter\n",
    "file_path = '/Users/urmebose/Desktop/Style/P04/Nuro/sed_01.txt'\n",
    "df = pd.read_csv(file_path, delimiter=';')\n",
    "\n",
    "# Save the dataframe to a CSV file\n",
    "csv_file_path = '/Users/urmebose/Desktop/Style/P04/Nuro/sed_01.csv'\n",
    "df.to_csv(csv_file_path, index=False)\n",
    "\n",
    "csv_file_path"
   ]
  },
  {
   "cell_type": "code",
   "execution_count": 22,
   "id": "5f45636d-dccd-48ac-a5b0-11277dfb27e1",
   "metadata": {},
   "outputs": [
    {
     "data": {
      "text/plain": [
       "'/Users/urmebose/Desktop/Style/P04/Nuro/sed_02.csv'"
      ]
     },
     "execution_count": 22,
     "metadata": {},
     "output_type": "execute_result"
    }
   ],
   "source": [
    "import pandas as pd\n",
    "\n",
    "# Load the txt file using ';' as delimiter\n",
    "file_path = '/Users/urmebose/Desktop/Style/P04/Nuro/sed_02.txt'\n",
    "df = pd.read_csv(file_path, delimiter=';')\n",
    "\n",
    "# Save the dataframe to a CSV file\n",
    "csv_file_path = '/Users/urmebose/Desktop/Style/P04/Nuro/sed_02.csv'\n",
    "df.to_csv(csv_file_path, index=False)\n",
    "\n",
    "csv_file_path"
   ]
  },
  {
   "cell_type": "code",
   "execution_count": 24,
   "id": "84776c3e-79f4-492c-9cf5-7f583f68c95b",
   "metadata": {},
   "outputs": [
    {
     "data": {
      "text/plain": [
       "'/Users/urmebose/Desktop/Style/P04/Nuro/sed_03.csv'"
      ]
     },
     "execution_count": 24,
     "metadata": {},
     "output_type": "execute_result"
    }
   ],
   "source": [
    "import pandas as pd\n",
    "\n",
    "# Load the txt file using ';' as delimiter\n",
    "file_path = '/Users/urmebose/Desktop/Style/P04/Nuro/sed_03.txt'\n",
    "df = pd.read_csv(file_path, delimiter=';')\n",
    "\n",
    "# Save the dataframe to a CSV file\n",
    "csv_file_path = '/Users/urmebose/Desktop/Style/P04/Nuro/sed_03.csv'\n",
    "df.to_csv(csv_file_path, index=False)\n",
    "\n",
    "csv_file_path"
   ]
  },
  {
   "cell_type": "code",
   "execution_count": null,
   "id": "24be0644-3c2a-4650-a0f4-202c2c2daf95",
   "metadata": {},
   "outputs": [],
   "source": []
  }
 ],
 "metadata": {
  "kernelspec": {
   "display_name": "Python 3 (ipykernel)",
   "language": "python",
   "name": "python3"
  },
  "language_info": {
   "codemirror_mode": {
    "name": "ipython",
    "version": 3
   },
   "file_extension": ".py",
   "mimetype": "text/x-python",
   "name": "python",
   "nbconvert_exporter": "python",
   "pygments_lexer": "ipython3",
   "version": "3.11.7"
  }
 },
 "nbformat": 4,
 "nbformat_minor": 5
}

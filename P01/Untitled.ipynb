{
 "cells": [
  {
   "cell_type": "code",
   "execution_count": null,
   "id": "cb2d70da-2f1a-4318-9668-4e8534ffcaa1",
   "metadata": {},
   "outputs": [],
   "source": [
    "from tabulate import tabulate\n",
    "\n",
    "# Plot each participant's 3 sessions time separately\n",
    "plt.figure(figsize=(15, 8))\n",
    "sns.catplot(x='Session', y='Total Timing (minutes)', col='Participant', data=session_stats, kind='bar', col_wrap=4, height=4, aspect=1)\n",
    "plt.subplots_adjust(top=0.9)\n",
    "plt.suptitle('Total Timing for Each Session by Participant')\n",
    "plt.show()"
   ]
  }
 ],
 "metadata": {
  "kernelspec": {
   "display_name": "Python 3 (ipykernel)",
   "language": "python",
   "name": "python3"
  },
  "language_info": {
   "codemirror_mode": {
    "name": "ipython",
    "version": 3
   },
   "file_extension": ".py",
   "mimetype": "text/x-python",
   "name": "python",
   "nbconvert_exporter": "python",
   "pygments_lexer": "ipython3",
   "version": "3.11.7"
  }
 },
 "nbformat": 4,
 "nbformat_minor": 5
}

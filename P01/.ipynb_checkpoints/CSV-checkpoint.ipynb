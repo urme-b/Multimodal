{
 "cells": [
  {
   "cell_type": "code",
   "execution_count": 3,
   "id": "48097457-8616-4410-a325-ea58d62489aa",
   "metadata": {},
   "outputs": [
    {
     "data": {
      "text/plain": [
       "'/Users/urmebose/Desktop/Style/P01/Nuro/hr.csv'"
      ]
     },
     "execution_count": 3,
     "metadata": {},
     "output_type": "execute_result"
    }
   ],
   "source": [
    "import pandas as pd\n",
    "\n",
    "# Load the txt file using ';' as delimiter\n",
    "file_path = '/Users/urmebose/Desktop/Style/P01/Nuro/hr.txt'\n",
    "df = pd.read_csv(file_path, delimiter=';')\n",
    "\n",
    "# Save the dataframe to a CSV file\n",
    "csv_file_path = '/Users/urmebose/Desktop/Style/P01/Nuro/hr.csv'\n",
    "df.to_csv(csv_file_path, index=False)\n",
    "\n",
    "csv_file_path"
   ]
  },
  {
   "cell_type": "code",
   "execution_count": 5,
   "id": "d2ea6359-9d2c-41fb-a012-fbf97a354303",
   "metadata": {},
   "outputs": [
    {
     "data": {
      "text/plain": [
       "'/Users/urmebose/Desktop/Style/P01/Nuro/hr_01.csv'"
      ]
     },
     "execution_count": 5,
     "metadata": {},
     "output_type": "execute_result"
    }
   ],
   "source": [
    "import pandas as pd\n",
    "\n",
    "# Load the txt file using ';' as delimiter\n",
    "file_path = '/Users/urmebose/Desktop/Style/P01/Nuro/hr_01.txt'\n",
    "df = pd.read_csv(file_path, delimiter=';')\n",
    "\n",
    "# Save the dataframe to a CSV file\n",
    "csv_file_path = '/Users/urmebose/Desktop/Style/P01/Nuro/hr_01.csv'\n",
    "df.to_csv(csv_file_path, index=False)\n",
    "\n",
    "csv_file_path"
   ]
  },
  {
   "cell_type": "code",
   "execution_count": 7,
   "id": "cdcdad8e-c611-4b88-91c0-3995f053ec79",
   "metadata": {},
   "outputs": [
    {
     "data": {
      "text/plain": [
       "'/Users/urmebose/Desktop/Style/P01/Nuro/hr_02.csv'"
      ]
     },
     "execution_count": 7,
     "metadata": {},
     "output_type": "execute_result"
    }
   ],
   "source": [
    "import pandas as pd\n",
    "\n",
    "# Load the txt file using ';' as delimiter\n",
    "file_path = '/Users/urmebose/Desktop/Style/P01/Nuro/hr_02.txt'\n",
    "df = pd.read_csv(file_path, delimiter=';')\n",
    "\n",
    "# Save the dataframe to a CSV file\n",
    "csv_file_path = '/Users/urmebose/Desktop/Style/P01/Nuro/hr_02.csv'\n",
    "df.to_csv(csv_file_path, index=False)\n",
    "\n",
    "csv_file_path"
   ]
  },
  {
   "cell_type": "code",
   "execution_count": 9,
   "id": "5d2293d8-5ad9-4435-bdd5-4f9dec577fc5",
   "metadata": {},
   "outputs": [
    {
     "data": {
      "text/plain": [
       "'/Users/urmebose/Desktop/Style/P01/Nuro/hr_03.csv'"
      ]
     },
     "execution_count": 9,
     "metadata": {},
     "output_type": "execute_result"
    }
   ],
   "source": [
    "import pandas as pd\n",
    "\n",
    "# Load the txt file using ';' as delimiter\n",
    "file_path = '/Users/urmebose/Desktop/Style/P01/Nuro/hr_03.txt'\n",
    "df = pd.read_csv(file_path, delimiter=';')\n",
    "\n",
    "# Save the dataframe to a CSV file\n",
    "csv_file_path = '/Users/urmebose/Desktop/Style/P01/Nuro/hr_03.csv'\n",
    "df.to_csv(csv_file_path, index=False)\n",
    "\n",
    "csv_file_path"
   ]
  },
  {
   "cell_type": "code",
   "execution_count": 11,
   "id": "a3dad11a-a671-492c-a55f-1206920fe346",
   "metadata": {},
   "outputs": [
    {
     "data": {
      "text/plain": [
       "'/Users/urmebose/Desktop/Style/P01/Nuro/ibi.csv'"
      ]
     },
     "execution_count": 11,
     "metadata": {},
     "output_type": "execute_result"
    }
   ],
   "source": [
    "import pandas as pd\n",
    "\n",
    "# Load the txt file using ';' as delimiter\n",
    "file_path = '/Users/urmebose/Desktop/Style/P01/Nuro/ibi.txt'\n",
    "df = pd.read_csv(file_path, delimiter=';')\n",
    "\n",
    "# Save the dataframe to a CSV file\n",
    "csv_file_path = '/Users/urmebose/Desktop/Style/P01/Nuro/ibi.csv'\n",
    "df.to_csv(csv_file_path, index=False)\n",
    "\n",
    "csv_file_path"
   ]
  },
  {
   "cell_type": "code",
   "execution_count": 13,
   "id": "7f5b69b5-5214-4051-aa22-4f32bc3c8646",
   "metadata": {},
   "outputs": [
    {
     "data": {
      "text/plain": [
       "'/Users/urmebose/Desktop/Style/P01/Nuro/ibi_01.csv'"
      ]
     },
     "execution_count": 13,
     "metadata": {},
     "output_type": "execute_result"
    }
   ],
   "source": [
    "import pandas as pd\n",
    "\n",
    "# Load the txt file using ';' as delimiter\n",
    "file_path = '/Users/urmebose/Desktop/Style/P01/Nuro/ibi_01.txt'\n",
    "df = pd.read_csv(file_path, delimiter=';')\n",
    "\n",
    "# Save the dataframe to a CSV file\n",
    "csv_file_path = '/Users/urmebose/Desktop/Style/P01/Nuro/ibi_01.csv'\n",
    "df.to_csv(csv_file_path, index=False)\n",
    "\n",
    "csv_file_path"
   ]
  },
  {
   "cell_type": "code",
   "execution_count": 15,
   "id": "484f098e-9456-43e5-9c93-aa8c426d498e",
   "metadata": {},
   "outputs": [
    {
     "data": {
      "text/plain": [
       "'/Users/urmebose/Desktop/Style/P01/Nuro/ibi_02.csv'"
      ]
     },
     "execution_count": 15,
     "metadata": {},
     "output_type": "execute_result"
    }
   ],
   "source": [
    "import pandas as pd\n",
    "\n",
    "# Load the txt file using ';' as delimiter\n",
    "file_path = '/Users/urmebose/Desktop/Style/P01/Nuro/ibi_02.txt'\n",
    "df = pd.read_csv(file_path, delimiter=';')\n",
    "\n",
    "# Save the dataframe to a CSV file\n",
    "csv_file_path = '/Users/urmebose/Desktop/Style/P01/Nuro/ibi_02.csv'\n",
    "df.to_csv(csv_file_path, index=False)\n",
    "\n",
    "csv_file_path"
   ]
  },
  {
   "cell_type": "code",
   "execution_count": 17,
   "id": "9b01e5b9-a5a7-4f69-b321-84672ea47ac2",
   "metadata": {},
   "outputs": [
    {
     "data": {
      "text/plain": [
       "'/Users/urmebose/Desktop/Style/P01/Nuro/ibi_03.csv'"
      ]
     },
     "execution_count": 17,
     "metadata": {},
     "output_type": "execute_result"
    }
   ],
   "source": [
    "import pandas as pd\n",
    "\n",
    "# Load the txt file using ';' as delimiter\n",
    "file_path = '/Users/urmebose/Desktop/Style/P01/Nuro/ibi_03.txt'\n",
    "df = pd.read_csv(file_path, delimiter=';')\n",
    "\n",
    "# Save the dataframe to a CSV file\n",
    "csv_file_path = '/Users/urmebose/Desktop/Style/P01/Nuro/ibi_03.csv'\n",
    "df.to_csv(csv_file_path, index=False)\n",
    "\n",
    "csv_file_path"
   ]
  },
  {
   "cell_type": "code",
   "execution_count": 19,
   "id": "ae6ad2f2-bdd7-4d8f-9831-22fbdc963294",
   "metadata": {},
   "outputs": [
    {
     "data": {
      "text/plain": [
       "'/Users/urmebose/Desktop/Style/P01/Nuro/sed.csv'"
      ]
     },
     "execution_count": 19,
     "metadata": {},
     "output_type": "execute_result"
    }
   ],
   "source": [
    "import pandas as pd\n",
    "\n",
    "# Load the txt file using ';' as delimiter\n",
    "file_path = '/Users/urmebose/Desktop/Style/P01/Nuro/sed.txt'\n",
    "df = pd.read_csv(file_path, delimiter=';')\n",
    "\n",
    "# Save the dataframe to a CSV file\n",
    "csv_file_path = '/Users/urmebose/Desktop/Style/P01/Nuro/sed.csv'\n",
    "df.to_csv(csv_file_path, index=False)\n",
    "\n",
    "csv_file_path"
   ]
  },
  {
   "cell_type": "code",
   "execution_count": 21,
   "id": "f0d202e3-086f-47be-a83b-6f08c1093b2b",
   "metadata": {},
   "outputs": [
    {
     "data": {
      "text/plain": [
       "'/Users/urmebose/Desktop/Style/P01/Nuro/sed_01.csv'"
      ]
     },
     "execution_count": 21,
     "metadata": {},
     "output_type": "execute_result"
    }
   ],
   "source": [
    "import pandas as pd\n",
    "\n",
    "# Load the txt file using ';' as delimiter\n",
    "file_path = '/Users/urmebose/Desktop/Style/P01/Nuro/sed_01.txt'\n",
    "df = pd.read_csv(file_path, delimiter=';')\n",
    "\n",
    "# Save the dataframe to a CSV file\n",
    "csv_file_path = '/Users/urmebose/Desktop/Style/P01/Nuro/sed_01.csv'\n",
    "df.to_csv(csv_file_path, index=False)\n",
    "\n",
    "csv_file_path"
   ]
  },
  {
   "cell_type": "code",
   "execution_count": 23,
   "id": "7d3f15ec-2632-4f5c-b10a-03facc165eb6",
   "metadata": {},
   "outputs": [
    {
     "data": {
      "text/plain": [
       "'/Users/urmebose/Desktop/Style/P01/Nuro/sed_02.csv'"
      ]
     },
     "execution_count": 23,
     "metadata": {},
     "output_type": "execute_result"
    }
   ],
   "source": [
    "import pandas as pd\n",
    "\n",
    "# Load the txt file using ';' as delimiter\n",
    "file_path = '/Users/urmebose/Desktop/Style/P01/Nuro/sed_02.txt'\n",
    "df = pd.read_csv(file_path, delimiter=';')\n",
    "\n",
    "# Save the dataframe to a CSV file\n",
    "csv_file_path = '/Users/urmebose/Desktop/Style/P01/Nuro/sed_02.csv'\n",
    "df.to_csv(csv_file_path, index=False)\n",
    "\n",
    "csv_file_path"
   ]
  },
  {
   "cell_type": "code",
   "execution_count": 25,
   "id": "c34402aa-5f0e-4808-b67c-e6d0819f4262",
   "metadata": {},
   "outputs": [
    {
     "data": {
      "text/plain": [
       "'/Users/urmebose/Desktop/Style/P01/Nuro/sed_03.csv'"
      ]
     },
     "execution_count": 25,
     "metadata": {},
     "output_type": "execute_result"
    }
   ],
   "source": [
    "import pandas as pd\n",
    "\n",
    "# Load the txt file using ';' as delimiter\n",
    "file_path = '/Users/urmebose/Desktop/Style/P01/Nuro/sed_03.txt'\n",
    "df = pd.read_csv(file_path, delimiter=';')\n",
    "\n",
    "# Save the dataframe to a CSV file\n",
    "csv_file_path = '/Users/urmebose/Desktop/Style/P01/Nuro/sed_03.csv'\n",
    "df.to_csv(csv_file_path, index=False)\n",
    "\n",
    "csv_file_path"
   ]
  },
  {
   "cell_type": "code",
   "execution_count": null,
   "id": "492b262f-ea91-475a-a7f0-9f3db556ff2b",
   "metadata": {},
   "outputs": [],
   "source": []
  }
 ],
 "metadata": {
  "kernelspec": {
   "display_name": "Python 3 (ipykernel)",
   "language": "python",
   "name": "python3"
  },
  "language_info": {
   "codemirror_mode": {
    "name": "ipython",
    "version": 3
   },
   "file_extension": ".py",
   "mimetype": "text/x-python",
   "name": "python",
   "nbconvert_exporter": "python",
   "pygments_lexer": "ipython3",
   "version": "3.11.7"
  }
 },
 "nbformat": 4,
 "nbformat_minor": 5
}

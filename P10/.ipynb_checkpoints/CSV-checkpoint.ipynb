{
 "cells": [
  {
   "cell_type": "code",
   "execution_count": 2,
   "id": "c5898e4f-20aa-4671-8298-288a813a2f33",
   "metadata": {},
   "outputs": [
    {
     "data": {
      "text/plain": [
       "'/Users/urmebose/Desktop/Style/P10/Nuro/hr.csv'"
      ]
     },
     "execution_count": 2,
     "metadata": {},
     "output_type": "execute_result"
    }
   ],
   "source": [
    "import pandas as pd\n",
    "\n",
    "# Load the txt file using ';' as delimiter\n",
    "file_path = '/Users/urmebose/Desktop/Style/P10/Nuro/hr.txt'\n",
    "df = pd.read_csv(file_path, delimiter=';')\n",
    "\n",
    "# Save the dataframe to a CSV file\n",
    "csv_file_path = '/Users/urmebose/Desktop/Style/P10/Nuro/hr.csv'\n",
    "df.to_csv(csv_file_path, index=False)\n",
    "\n",
    "csv_file_path"
   ]
  },
  {
   "cell_type": "code",
   "execution_count": 4,
   "id": "179ce126-097b-4ab8-bc13-db8fe7afe45c",
   "metadata": {},
   "outputs": [
    {
     "data": {
      "text/plain": [
       "'/Users/urmebose/Desktop/Style/P10/Nuro/hr_01.csv'"
      ]
     },
     "execution_count": 4,
     "metadata": {},
     "output_type": "execute_result"
    }
   ],
   "source": [
    "import pandas as pd\n",
    "\n",
    "# Load the txt file using ';' as delimiter\n",
    "file_path = '/Users/urmebose/Desktop/Style/P10/Nuro/hr_01.txt'\n",
    "df = pd.read_csv(file_path, delimiter=';')\n",
    "\n",
    "# Save the dataframe to a CSV file\n",
    "csv_file_path = '/Users/urmebose/Desktop/Style/P10/Nuro/hr_01.csv'\n",
    "df.to_csv(csv_file_path, index=False)\n",
    "\n",
    "csv_file_path"
   ]
  },
  {
   "cell_type": "code",
   "execution_count": 6,
   "id": "8a7ecc36-d104-413b-8489-3aea09bc82ec",
   "metadata": {},
   "outputs": [
    {
     "data": {
      "text/plain": [
       "'/Users/urmebose/Desktop/Style/P10/Nuro/hr_02.csv'"
      ]
     },
     "execution_count": 6,
     "metadata": {},
     "output_type": "execute_result"
    }
   ],
   "source": [
    "import pandas as pd\n",
    "\n",
    "# Load the txt file using ';' as delimiter\n",
    "file_path = '/Users/urmebose/Desktop/Style/P10/Nuro/hr_02.txt'\n",
    "df = pd.read_csv(file_path, delimiter=';')\n",
    "\n",
    "# Save the dataframe to a CSV file\n",
    "csv_file_path = '/Users/urmebose/Desktop/Style/P10/Nuro/hr_02.csv'\n",
    "df.to_csv(csv_file_path, index=False)\n",
    "\n",
    "csv_file_path"
   ]
  },
  {
   "cell_type": "code",
   "execution_count": 8,
   "id": "e9907ab7-b052-4179-b5cd-375a0503e3d8",
   "metadata": {},
   "outputs": [
    {
     "data": {
      "text/plain": [
       "'/Users/urmebose/Desktop/Style/P10/Nuro/hr_03.csv'"
      ]
     },
     "execution_count": 8,
     "metadata": {},
     "output_type": "execute_result"
    }
   ],
   "source": [
    "import pandas as pd\n",
    "\n",
    "# Load the txt file using ';' as delimiter\n",
    "file_path = '/Users/urmebose/Desktop/Style/P10/Nuro/hr_03.txt'\n",
    "df = pd.read_csv(file_path, delimiter=';')\n",
    "\n",
    "# Save the dataframe to a CSV file\n",
    "csv_file_path = '/Users/urmebose/Desktop/Style/P10/Nuro/hr_03.csv'\n",
    "df.to_csv(csv_file_path, index=False)\n",
    "\n",
    "csv_file_path"
   ]
  },
  {
   "cell_type": "code",
   "execution_count": 10,
   "id": "0ef0055b-b2ae-45d4-ae51-9028192d94f2",
   "metadata": {},
   "outputs": [
    {
     "data": {
      "text/plain": [
       "'/Users/urmebose/Desktop/Style/P10/Nuro/ibi_01.csv'"
      ]
     },
     "execution_count": 10,
     "metadata": {},
     "output_type": "execute_result"
    }
   ],
   "source": [
    "import pandas as pd\n",
    "\n",
    "# Load the txt file using ';' as delimiter\n",
    "file_path = '/Users/urmebose/Desktop/Style/P10/Nuro/ibi_01.txt'\n",
    "df = pd.read_csv(file_path, delimiter=';')\n",
    "\n",
    "# Save the dataframe to a CSV file\n",
    "csv_file_path = '/Users/urmebose/Desktop/Style/P10/Nuro/ibi_01.csv'\n",
    "df.to_csv(csv_file_path, index=False)\n",
    "\n",
    "csv_file_path"
   ]
  },
  {
   "cell_type": "code",
   "execution_count": 12,
   "id": "496fbfc4-ea82-4775-bc58-1d02f44af22d",
   "metadata": {},
   "outputs": [
    {
     "data": {
      "text/plain": [
       "'/Users/urmebose/Desktop/Style/P10/Nuro/ibi_02.csv'"
      ]
     },
     "execution_count": 12,
     "metadata": {},
     "output_type": "execute_result"
    }
   ],
   "source": [
    "import pandas as pd\n",
    "\n",
    "# Load the txt file using ';' as delimiter\n",
    "file_path = '/Users/urmebose/Desktop/Style/P10/Nuro/ibi_02.txt'\n",
    "df = pd.read_csv(file_path, delimiter=';')\n",
    "\n",
    "# Save the dataframe to a CSV file\n",
    "csv_file_path = '/Users/urmebose/Desktop/Style/P10/Nuro/ibi_02.csv'\n",
    "df.to_csv(csv_file_path, index=False)\n",
    "\n",
    "csv_file_path"
   ]
  },
  {
   "cell_type": "code",
   "execution_count": 14,
   "id": "70de9a99-48b5-4500-a0ee-5691dcfeede7",
   "metadata": {},
   "outputs": [
    {
     "data": {
      "text/plain": [
       "'/Users/urmebose/Desktop/Style/P10/Nuro/ibi_03.csv'"
      ]
     },
     "execution_count": 14,
     "metadata": {},
     "output_type": "execute_result"
    }
   ],
   "source": [
    "import pandas as pd\n",
    "\n",
    "# Load the txt file using ';' as delimiter\n",
    "file_path = '/Users/urmebose/Desktop/Style/P10/Nuro/ibi_03.txt'\n",
    "df = pd.read_csv(file_path, delimiter=';')\n",
    "\n",
    "# Save the dataframe to a CSV file\n",
    "csv_file_path = '/Users/urmebose/Desktop/Style/P10/Nuro/ibi_03.csv'\n",
    "df.to_csv(csv_file_path, index=False)\n",
    "\n",
    "csv_file_path"
   ]
  },
  {
   "cell_type": "code",
   "execution_count": 16,
   "id": "3078b141-d195-4a7d-9dee-51126d7fadb1",
   "metadata": {},
   "outputs": [
    {
     "data": {
      "text/plain": [
       "'/Users/urmebose/Desktop/Style/P10/Nuro/ibi.csv'"
      ]
     },
     "execution_count": 16,
     "metadata": {},
     "output_type": "execute_result"
    }
   ],
   "source": [
    "import pandas as pd\n",
    "\n",
    "# Load the txt file using ';' as delimiter\n",
    "file_path = '/Users/urmebose/Desktop/Style/P10/Nuro/ibi.txt'\n",
    "df = pd.read_csv(file_path, delimiter=';')\n",
    "\n",
    "# Save the dataframe to a CSV file\n",
    "csv_file_path = '/Users/urmebose/Desktop/Style/P10/Nuro/ibi.csv'\n",
    "df.to_csv(csv_file_path, index=False)\n",
    "\n",
    "csv_file_path"
   ]
  },
  {
   "cell_type": "code",
   "execution_count": 18,
   "id": "0e364360-5d7e-43f5-8b8f-8d3abccaaf02",
   "metadata": {},
   "outputs": [
    {
     "data": {
      "text/plain": [
       "'/Users/urmebose/Desktop/Style/P10/Nuro/sed_01.csv'"
      ]
     },
     "execution_count": 18,
     "metadata": {},
     "output_type": "execute_result"
    }
   ],
   "source": [
    "import pandas as pd\n",
    "\n",
    "# Load the txt file using ';' as delimiter\n",
    "file_path = '/Users/urmebose/Desktop/Style/P10/Nuro/sed_01.txt'\n",
    "df = pd.read_csv(file_path, delimiter=';')\n",
    "\n",
    "# Save the dataframe to a CSV file\n",
    "csv_file_path = '/Users/urmebose/Desktop/Style/P10/Nuro/sed_01.csv'\n",
    "df.to_csv(csv_file_path, index=False)\n",
    "\n",
    "csv_file_path"
   ]
  },
  {
   "cell_type": "code",
   "execution_count": 20,
   "id": "998daef8-de9c-4da5-a8ff-0218edd37f4e",
   "metadata": {},
   "outputs": [
    {
     "data": {
      "text/plain": [
       "'/Users/urmebose/Desktop/Style/P10/Nuro/sed_02.csv'"
      ]
     },
     "execution_count": 20,
     "metadata": {},
     "output_type": "execute_result"
    }
   ],
   "source": [
    "import pandas as pd\n",
    "\n",
    "# Load the txt file using ';' as delimiter\n",
    "file_path = '/Users/urmebose/Desktop/Style/P10/Nuro/sed_02.txt'\n",
    "df = pd.read_csv(file_path, delimiter=';')\n",
    "\n",
    "# Save the dataframe to a CSV file\n",
    "csv_file_path = '/Users/urmebose/Desktop/Style/P10/Nuro/sed_02.csv'\n",
    "df.to_csv(csv_file_path, index=False)\n",
    "\n",
    "csv_file_path"
   ]
  },
  {
   "cell_type": "code",
   "execution_count": 22,
   "id": "b43f9089-50e0-494e-bcb7-9b93fb82049d",
   "metadata": {},
   "outputs": [
    {
     "data": {
      "text/plain": [
       "'/Users/urmebose/Desktop/Style/P10/Nuro/sed_03.csv'"
      ]
     },
     "execution_count": 22,
     "metadata": {},
     "output_type": "execute_result"
    }
   ],
   "source": [
    "import pandas as pd\n",
    "\n",
    "# Load the txt file using ';' as delimiter\n",
    "file_path = '/Users/urmebose/Desktop/Style/P10/Nuro/sed_03.txt'\n",
    "df = pd.read_csv(file_path, delimiter=';')\n",
    "\n",
    "# Save the dataframe to a CSV file\n",
    "csv_file_path = '/Users/urmebose/Desktop/Style/P10/Nuro/sed_03.csv'\n",
    "df.to_csv(csv_file_path, index=False)\n",
    "\n",
    "csv_file_path"
   ]
  },
  {
   "cell_type": "code",
   "execution_count": 24,
   "id": "10c4505d-3a02-4796-872a-2bb456cd12c3",
   "metadata": {},
   "outputs": [
    {
     "data": {
      "text/plain": [
       "'/Users/urmebose/Desktop/Style/P10/Nuro/sed.csv'"
      ]
     },
     "execution_count": 24,
     "metadata": {},
     "output_type": "execute_result"
    }
   ],
   "source": [
    "import pandas as pd\n",
    "\n",
    "# Load the txt file using ';' as delimiter\n",
    "file_path = '/Users/urmebose/Desktop/Style/P10/Nuro/sed.txt'\n",
    "df = pd.read_csv(file_path, delimiter=';')\n",
    "\n",
    "# Save the dataframe to a CSV file\n",
    "csv_file_path = '/Users/urmebose/Desktop/Style/P10/Nuro/sed.csv'\n",
    "df.to_csv(csv_file_path, index=False)\n",
    "\n",
    "csv_file_path"
   ]
  },
  {
   "cell_type": "code",
   "execution_count": null,
   "id": "effa222e-6fe0-4e87-becd-d91d06faee6d",
   "metadata": {},
   "outputs": [],
   "source": []
  }
 ],
 "metadata": {
  "kernelspec": {
   "display_name": "Python 3 (ipykernel)",
   "language": "python",
   "name": "python3"
  },
  "language_info": {
   "codemirror_mode": {
    "name": "ipython",
    "version": 3
   },
   "file_extension": ".py",
   "mimetype": "text/x-python",
   "name": "python",
   "nbconvert_exporter": "python",
   "pygments_lexer": "ipython3",
   "version": "3.11.7"
  }
 },
 "nbformat": 4,
 "nbformat_minor": 5
}

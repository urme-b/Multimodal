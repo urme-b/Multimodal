{
 "cells": [
  {
   "cell_type": "code",
   "execution_count": 2,
   "id": "7673066b-24ae-42a8-ad5d-f73f9c9b9228",
   "metadata": {},
   "outputs": [
    {
     "data": {
      "text/plain": [
       "'/Users/urmebose/Desktop/Style/P05/Nuro/hr.csv'"
      ]
     },
     "execution_count": 2,
     "metadata": {},
     "output_type": "execute_result"
    }
   ],
   "source": [
    "import pandas as pd\n",
    "\n",
    "# Load the txt file using ';' as delimiter\n",
    "file_path = '/Users/urmebose/Desktop/Style/P05/Nuro/hr.txt'\n",
    "df = pd.read_csv(file_path, delimiter=';')\n",
    "\n",
    "# Save the dataframe to a CSV file\n",
    "csv_file_path = '/Users/urmebose/Desktop/Style/P05/Nuro/hr.csv'\n",
    "df.to_csv(csv_file_path, index=False)\n",
    "\n",
    "csv_file_path"
   ]
  },
  {
   "cell_type": "code",
   "execution_count": 4,
   "id": "8e64675f-5319-4b34-879e-171b8241f524",
   "metadata": {},
   "outputs": [
    {
     "data": {
      "text/plain": [
       "'/Users/urmebose/Desktop/Style/P05/Nuro/hr_01.csv'"
      ]
     },
     "execution_count": 4,
     "metadata": {},
     "output_type": "execute_result"
    }
   ],
   "source": [
    "import pandas as pd\n",
    "\n",
    "# Load the txt file using ';' as delimiter\n",
    "file_path = '/Users/urmebose/Desktop/Style/P05/Nuro/hr_01.txt'\n",
    "df = pd.read_csv(file_path, delimiter=';')\n",
    "\n",
    "# Save the dataframe to a CSV file\n",
    "csv_file_path = '/Users/urmebose/Desktop/Style/P05/Nuro/hr_01.csv'\n",
    "df.to_csv(csv_file_path, index=False)\n",
    "\n",
    "csv_file_path"
   ]
  },
  {
   "cell_type": "code",
   "execution_count": 6,
   "id": "d4b1211c-0bb0-4a66-b382-3a56e3364aae",
   "metadata": {},
   "outputs": [
    {
     "data": {
      "text/plain": [
       "'/Users/urmebose/Desktop/Style/P05/Nuro/hr_02.csv'"
      ]
     },
     "execution_count": 6,
     "metadata": {},
     "output_type": "execute_result"
    }
   ],
   "source": [
    "import pandas as pd\n",
    "\n",
    "# Load the txt file using ';' as delimiter\n",
    "file_path = '/Users/urmebose/Desktop/Style/P05/Nuro/hr_02.txt'\n",
    "df = pd.read_csv(file_path, delimiter=';')\n",
    "\n",
    "# Save the dataframe to a CSV file\n",
    "csv_file_path = '/Users/urmebose/Desktop/Style/P05/Nuro/hr_02.csv'\n",
    "df.to_csv(csv_file_path, index=False)\n",
    "\n",
    "csv_file_path"
   ]
  },
  {
   "cell_type": "code",
   "execution_count": 8,
   "id": "cdcc33dd-d5c5-4fb3-b43e-0e16e3651497",
   "metadata": {},
   "outputs": [
    {
     "data": {
      "text/plain": [
       "'/Users/urmebose/Desktop/Style/P05/Nuro/hr_03.csv'"
      ]
     },
     "execution_count": 8,
     "metadata": {},
     "output_type": "execute_result"
    }
   ],
   "source": [
    "import pandas as pd\n",
    "\n",
    "# Load the txt file using ';' as delimiter\n",
    "file_path = '/Users/urmebose/Desktop/Style/P05/Nuro/hr_03.txt'\n",
    "df = pd.read_csv(file_path, delimiter=';')\n",
    "\n",
    "# Save the dataframe to a CSV file\n",
    "csv_file_path = '/Users/urmebose/Desktop/Style/P05/Nuro/hr_03.csv'\n",
    "df.to_csv(csv_file_path, index=False)\n",
    "\n",
    "csv_file_path"
   ]
  },
  {
   "cell_type": "code",
   "execution_count": 10,
   "id": "12b8a782-4fc5-4434-9263-8b1c060b4d2e",
   "metadata": {},
   "outputs": [
    {
     "data": {
      "text/plain": [
       "'/Users/urmebose/Desktop/Style/P05/Nuro/ibi.csv'"
      ]
     },
     "execution_count": 10,
     "metadata": {},
     "output_type": "execute_result"
    }
   ],
   "source": [
    "import pandas as pd\n",
    "\n",
    "# Load the txt file using ';' as delimiter\n",
    "file_path = '/Users/urmebose/Desktop/Style/P05/Nuro/ibi.txt'\n",
    "df = pd.read_csv(file_path, delimiter=';')\n",
    "\n",
    "# Save the dataframe to a CSV file\n",
    "csv_file_path = '/Users/urmebose/Desktop/Style/P05/Nuro/ibi.csv'\n",
    "df.to_csv(csv_file_path, index=False)\n",
    "\n",
    "csv_file_path"
   ]
  },
  {
   "cell_type": "code",
   "execution_count": 12,
   "id": "d8975610-72d5-4a47-ad04-9b2f03102b09",
   "metadata": {},
   "outputs": [
    {
     "data": {
      "text/plain": [
       "'/Users/urmebose/Desktop/Style/P05/Nuro/ibi_01.csv'"
      ]
     },
     "execution_count": 12,
     "metadata": {},
     "output_type": "execute_result"
    }
   ],
   "source": [
    "import pandas as pd\n",
    "\n",
    "# Load the txt file using ';' as delimiter\n",
    "file_path = '/Users/urmebose/Desktop/Style/P05/Nuro/ibi_01.txt'\n",
    "df = pd.read_csv(file_path, delimiter=';')\n",
    "\n",
    "# Save the dataframe to a CSV file\n",
    "csv_file_path = '/Users/urmebose/Desktop/Style/P05/Nuro/ibi_01.csv'\n",
    "df.to_csv(csv_file_path, index=False)\n",
    "\n",
    "csv_file_path"
   ]
  },
  {
   "cell_type": "code",
   "execution_count": 14,
   "id": "f95d83bb-e5f5-45d7-953f-d6baa7c46692",
   "metadata": {},
   "outputs": [
    {
     "data": {
      "text/plain": [
       "'/Users/urmebose/Desktop/Style/P05/Nuro/ibi_02.csv'"
      ]
     },
     "execution_count": 14,
     "metadata": {},
     "output_type": "execute_result"
    }
   ],
   "source": [
    "import pandas as pd\n",
    "\n",
    "# Load the txt file using ';' as delimiter\n",
    "file_path = '/Users/urmebose/Desktop/Style/P05/Nuro/ibi_02.txt'\n",
    "df = pd.read_csv(file_path, delimiter=';')\n",
    "\n",
    "# Save the dataframe to a CSV file\n",
    "csv_file_path = '/Users/urmebose/Desktop/Style/P05/Nuro/ibi_02.csv'\n",
    "df.to_csv(csv_file_path, index=False)\n",
    "\n",
    "csv_file_path"
   ]
  },
  {
   "cell_type": "code",
   "execution_count": 16,
   "id": "28ddb9cd-9f1f-441e-b1ac-3e8270adeb7f",
   "metadata": {},
   "outputs": [
    {
     "data": {
      "text/plain": [
       "'/Users/urmebose/Desktop/Style/P05/Nuro/ibi_03.csv'"
      ]
     },
     "execution_count": 16,
     "metadata": {},
     "output_type": "execute_result"
    }
   ],
   "source": [
    "import pandas as pd\n",
    "\n",
    "# Load the txt file using ';' as delimiter\n",
    "file_path = '/Users/urmebose/Desktop/Style/P05/Nuro/ibi_03.txt'\n",
    "df = pd.read_csv(file_path, delimiter=';')\n",
    "\n",
    "# Save the dataframe to a CSV file\n",
    "csv_file_path = '/Users/urmebose/Desktop/Style/P05/Nuro/ibi_03.csv'\n",
    "df.to_csv(csv_file_path, index=False)\n",
    "\n",
    "csv_file_path"
   ]
  },
  {
   "cell_type": "code",
   "execution_count": 18,
   "id": "c48150e8-12ca-4600-b49e-ab611c5ad243",
   "metadata": {},
   "outputs": [
    {
     "data": {
      "text/plain": [
       "'/Users/urmebose/Desktop/Style/P05/Nuro/sed.csv'"
      ]
     },
     "execution_count": 18,
     "metadata": {},
     "output_type": "execute_result"
    }
   ],
   "source": [
    "import pandas as pd\n",
    "\n",
    "# Load the txt file using ';' as delimiter\n",
    "file_path = '/Users/urmebose/Desktop/Style/P05/Nuro/sed.txt'\n",
    "df = pd.read_csv(file_path, delimiter=';')\n",
    "\n",
    "# Save the dataframe to a CSV file\n",
    "csv_file_path = '/Users/urmebose/Desktop/Style/P05/Nuro/sed.csv'\n",
    "df.to_csv(csv_file_path, index=False)\n",
    "\n",
    "csv_file_path"
   ]
  },
  {
   "cell_type": "code",
   "execution_count": 20,
   "id": "f54b5372-0faf-4837-aba6-09dcaef0de91",
   "metadata": {},
   "outputs": [
    {
     "data": {
      "text/plain": [
       "'/Users/urmebose/Desktop/Style/P05/Nuro/sed_01.csv'"
      ]
     },
     "execution_count": 20,
     "metadata": {},
     "output_type": "execute_result"
    }
   ],
   "source": [
    "import pandas as pd\n",
    "\n",
    "# Load the txt file using ';' as delimiter\n",
    "file_path = '/Users/urmebose/Desktop/Style/P05/Nuro/sed_01.txt'\n",
    "df = pd.read_csv(file_path, delimiter=';')\n",
    "\n",
    "# Save the dataframe to a CSV file\n",
    "csv_file_path = '/Users/urmebose/Desktop/Style/P05/Nuro/sed_01.csv'\n",
    "df.to_csv(csv_file_path, index=False)\n",
    "\n",
    "csv_file_path"
   ]
  },
  {
   "cell_type": "code",
   "execution_count": 22,
   "id": "03d9cb3f-51f6-4b3d-bc5c-54f2bae076ff",
   "metadata": {},
   "outputs": [
    {
     "data": {
      "text/plain": [
       "'/Users/urmebose/Desktop/Style/P05/Nuro/sed_02.csv'"
      ]
     },
     "execution_count": 22,
     "metadata": {},
     "output_type": "execute_result"
    }
   ],
   "source": [
    "import pandas as pd\n",
    "\n",
    "# Load the txt file using ';' as delimiter\n",
    "file_path = '/Users/urmebose/Desktop/Style/P05/Nuro/sed_02.txt'\n",
    "df = pd.read_csv(file_path, delimiter=';')\n",
    "\n",
    "# Save the dataframe to a CSV file\n",
    "csv_file_path = '/Users/urmebose/Desktop/Style/P05/Nuro/sed_02.csv'\n",
    "df.to_csv(csv_file_path, index=False)\n",
    "\n",
    "csv_file_path"
   ]
  },
  {
   "cell_type": "code",
   "execution_count": 24,
   "id": "590c9c1b-1511-4246-91e2-575451f5a64e",
   "metadata": {},
   "outputs": [
    {
     "data": {
      "text/plain": [
       "'/Users/urmebose/Desktop/Style/P05/Nuro/sed_03.csv'"
      ]
     },
     "execution_count": 24,
     "metadata": {},
     "output_type": "execute_result"
    }
   ],
   "source": [
    "import pandas as pd\n",
    "\n",
    "# Load the txt file using ';' as delimiter\n",
    "file_path = '/Users/urmebose/Desktop/Style/P05/Nuro/sed_03.txt'\n",
    "df = pd.read_csv(file_path, delimiter=';')\n",
    "\n",
    "# Save the dataframe to a CSV file\n",
    "csv_file_path = '/Users/urmebose/Desktop/Style/P05/Nuro/sed_03.csv'\n",
    "df.to_csv(csv_file_path, index=False)\n",
    "\n",
    "csv_file_path"
   ]
  },
  {
   "cell_type": "code",
   "execution_count": null,
   "id": "1d5cfa0e-f9ad-4aad-8aaf-1b2bb3b3c15a",
   "metadata": {},
   "outputs": [],
   "source": []
  }
 ],
 "metadata": {
  "kernelspec": {
   "display_name": "Python 3 (ipykernel)",
   "language": "python",
   "name": "python3"
  },
  "language_info": {
   "codemirror_mode": {
    "name": "ipython",
    "version": 3
   },
   "file_extension": ".py",
   "mimetype": "text/x-python",
   "name": "python",
   "nbconvert_exporter": "python",
   "pygments_lexer": "ipython3",
   "version": "3.11.7"
  }
 },
 "nbformat": 4,
 "nbformat_minor": 5
}

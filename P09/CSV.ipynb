{
 "cells": [
  {
   "cell_type": "code",
   "execution_count": 2,
   "id": "df2ba09b-11d4-407e-83a0-4add4c853821",
   "metadata": {},
   "outputs": [
    {
     "data": {
      "text/plain": [
       "'/Users/urmebose/Desktop/Style/P09/Nuro/hr.csv'"
      ]
     },
     "execution_count": 2,
     "metadata": {},
     "output_type": "execute_result"
    }
   ],
   "source": [
    "import pandas as pd\n",
    "\n",
    "# Load the txt file using ';' as delimiter\n",
    "file_path = '/Users/urmebose/Desktop/Style/P09/Nuro/hr.txt'\n",
    "df = pd.read_csv(file_path, delimiter=';')\n",
    "\n",
    "# Save the dataframe to a CSV file\n",
    "csv_file_path = '/Users/urmebose/Desktop/Style/P09/Nuro/hr.csv'\n",
    "df.to_csv(csv_file_path, index=False)\n",
    "\n",
    "csv_file_path"
   ]
  },
  {
   "cell_type": "code",
   "execution_count": 4,
   "id": "7f114c9b-6257-4a38-bee2-8b9523ddd151",
   "metadata": {},
   "outputs": [
    {
     "data": {
      "text/plain": [
       "'/Users/urmebose/Desktop/Style/P09/Nuro/hr_01.csv'"
      ]
     },
     "execution_count": 4,
     "metadata": {},
     "output_type": "execute_result"
    }
   ],
   "source": [
    "import pandas as pd\n",
    "\n",
    "# Load the txt file using ';' as delimiter\n",
    "file_path = '/Users/urmebose/Desktop/Style/P09/Nuro/hr_01.txt'\n",
    "df = pd.read_csv(file_path, delimiter=';')\n",
    "\n",
    "# Save the dataframe to a CSV file\n",
    "csv_file_path = '/Users/urmebose/Desktop/Style/P09/Nuro/hr_01.csv'\n",
    "df.to_csv(csv_file_path, index=False)\n",
    "\n",
    "csv_file_path"
   ]
  },
  {
   "cell_type": "code",
   "execution_count": 6,
   "id": "7cb1d206-79e8-47da-81e0-fe54ced2c028",
   "metadata": {},
   "outputs": [
    {
     "data": {
      "text/plain": [
       "'/Users/urmebose/Desktop/Style/P09/Nuro/hr_02.csv'"
      ]
     },
     "execution_count": 6,
     "metadata": {},
     "output_type": "execute_result"
    }
   ],
   "source": [
    "import pandas as pd\n",
    "\n",
    "# Load the txt file using ';' as delimiter\n",
    "file_path = '/Users/urmebose/Desktop/Style/P09/Nuro/hr_02.txt'\n",
    "df = pd.read_csv(file_path, delimiter=';')\n",
    "\n",
    "# Save the dataframe to a CSV file\n",
    "csv_file_path = '/Users/urmebose/Desktop/Style/P09/Nuro/hr_02.csv'\n",
    "df.to_csv(csv_file_path, index=False)\n",
    "\n",
    "csv_file_path"
   ]
  },
  {
   "cell_type": "code",
   "execution_count": 8,
   "id": "a0e1a936-ab7a-41c9-895a-c9a2e48d22bc",
   "metadata": {},
   "outputs": [
    {
     "data": {
      "text/plain": [
       "'/Users/urmebose/Desktop/Style/P09/Nuro/hr_03.csv'"
      ]
     },
     "execution_count": 8,
     "metadata": {},
     "output_type": "execute_result"
    }
   ],
   "source": [
    "import pandas as pd\n",
    "\n",
    "# Load the txt file using ';' as delimiter\n",
    "file_path = '/Users/urmebose/Desktop/Style/P09/Nuro/hr_03.txt'\n",
    "df = pd.read_csv(file_path, delimiter=';')\n",
    "\n",
    "# Save the dataframe to a CSV file\n",
    "csv_file_path = '/Users/urmebose/Desktop/Style/P09/Nuro/hr_03.csv'\n",
    "df.to_csv(csv_file_path, index=False)\n",
    "\n",
    "csv_file_path"
   ]
  },
  {
   "cell_type": "code",
   "execution_count": 10,
   "id": "def5a895-78a6-4f82-90e4-ce9d80189805",
   "metadata": {},
   "outputs": [
    {
     "data": {
      "text/plain": [
       "'/Users/urmebose/Desktop/Style/P09/Nuro/ibi_01.csv'"
      ]
     },
     "execution_count": 10,
     "metadata": {},
     "output_type": "execute_result"
    }
   ],
   "source": [
    "import pandas as pd\n",
    "\n",
    "# Load the txt file using ';' as delimiter\n",
    "file_path = '/Users/urmebose/Desktop/Style/P09/Nuro/ibi_01.txt'\n",
    "df = pd.read_csv(file_path, delimiter=';')\n",
    "\n",
    "# Save the dataframe to a CSV file\n",
    "csv_file_path = '/Users/urmebose/Desktop/Style/P09/Nuro/ibi_01.csv'\n",
    "df.to_csv(csv_file_path, index=False)\n",
    "\n",
    "csv_file_path"
   ]
  },
  {
   "cell_type": "code",
   "execution_count": 12,
   "id": "6c7ef420-f63c-48e2-b2dc-1f6eba2d10a0",
   "metadata": {},
   "outputs": [
    {
     "data": {
      "text/plain": [
       "'/Users/urmebose/Desktop/Style/P09/Nuro/ibi_02.csv'"
      ]
     },
     "execution_count": 12,
     "metadata": {},
     "output_type": "execute_result"
    }
   ],
   "source": [
    "import pandas as pd\n",
    "\n",
    "# Load the txt file using ';' as delimiter\n",
    "file_path = '/Users/urmebose/Desktop/Style/P09/Nuro/ibi_02.txt'\n",
    "df = pd.read_csv(file_path, delimiter=';')\n",
    "\n",
    "# Save the dataframe to a CSV file\n",
    "csv_file_path = '/Users/urmebose/Desktop/Style/P09/Nuro/ibi_02.csv'\n",
    "df.to_csv(csv_file_path, index=False)\n",
    "\n",
    "csv_file_path"
   ]
  },
  {
   "cell_type": "code",
   "execution_count": 14,
   "id": "22792b56-df28-4b54-ba08-1e63dbaef614",
   "metadata": {},
   "outputs": [
    {
     "data": {
      "text/plain": [
       "'/Users/urmebose/Desktop/Style/P09/Nuro/ibi_03.csv'"
      ]
     },
     "execution_count": 14,
     "metadata": {},
     "output_type": "execute_result"
    }
   ],
   "source": [
    "import pandas as pd\n",
    "\n",
    "# Load the txt file using ';' as delimiter\n",
    "file_path = '/Users/urmebose/Desktop/Style/P09/Nuro/ibi_03.txt'\n",
    "df = pd.read_csv(file_path, delimiter=';')\n",
    "\n",
    "# Save the dataframe to a CSV file\n",
    "csv_file_path = '/Users/urmebose/Desktop/Style/P09/Nuro/ibi_03.csv'\n",
    "df.to_csv(csv_file_path, index=False)\n",
    "\n",
    "csv_file_path"
   ]
  },
  {
   "cell_type": "code",
   "execution_count": 16,
   "id": "8a3cfbd2-3908-4f4e-ae71-3faaca902b67",
   "metadata": {},
   "outputs": [
    {
     "data": {
      "text/plain": [
       "'/Users/urmebose/Desktop/Style/P09/Nuro/sed.csv'"
      ]
     },
     "execution_count": 16,
     "metadata": {},
     "output_type": "execute_result"
    }
   ],
   "source": [
    "import pandas as pd\n",
    "\n",
    "# Load the txt file using ';' as delimiter\n",
    "file_path = '/Users/urmebose/Desktop/Style/P09/Nuro/sed.txt'\n",
    "df = pd.read_csv(file_path, delimiter=';')\n",
    "\n",
    "# Save the dataframe to a CSV file\n",
    "csv_file_path = '/Users/urmebose/Desktop/Style/P09/Nuro/sed.csv'\n",
    "df.to_csv(csv_file_path, index=False)\n",
    "\n",
    "csv_file_path"
   ]
  },
  {
   "cell_type": "code",
   "execution_count": 18,
   "id": "e7311281-a4dc-4fb8-9770-50f781fcbac8",
   "metadata": {},
   "outputs": [
    {
     "data": {
      "text/plain": [
       "'/Users/urmebose/Desktop/Style/P09/Nuro/sed_01.csv'"
      ]
     },
     "execution_count": 18,
     "metadata": {},
     "output_type": "execute_result"
    }
   ],
   "source": [
    "import pandas as pd\n",
    "\n",
    "# Load the txt file using ';' as delimiter\n",
    "file_path = '/Users/urmebose/Desktop/Style/P09/Nuro/sed_01.txt'\n",
    "df = pd.read_csv(file_path, delimiter=';')\n",
    "\n",
    "# Save the dataframe to a CSV file\n",
    "csv_file_path = '/Users/urmebose/Desktop/Style/P09/Nuro/sed_01.csv'\n",
    "df.to_csv(csv_file_path, index=False)\n",
    "\n",
    "csv_file_path"
   ]
  },
  {
   "cell_type": "code",
   "execution_count": 20,
   "id": "910de2d6-2f33-4c6e-b5fb-37ff404c984d",
   "metadata": {},
   "outputs": [
    {
     "data": {
      "text/plain": [
       "'/Users/urmebose/Desktop/Style/P09/Nuro/sed_02.csv'"
      ]
     },
     "execution_count": 20,
     "metadata": {},
     "output_type": "execute_result"
    }
   ],
   "source": [
    "import pandas as pd\n",
    "\n",
    "# Load the txt file using ';' as delimiter\n",
    "file_path = '/Users/urmebose/Desktop/Style/P09/Nuro/sed_02.txt'\n",
    "df = pd.read_csv(file_path, delimiter=';')\n",
    "\n",
    "# Save the dataframe to a CSV file\n",
    "csv_file_path = '/Users/urmebose/Desktop/Style/P09/Nuro/sed_02.csv'\n",
    "df.to_csv(csv_file_path, index=False)\n",
    "\n",
    "csv_file_path"
   ]
  },
  {
   "cell_type": "code",
   "execution_count": 22,
   "id": "c2f828c1-7968-4a89-afa1-ad08be2b5c23",
   "metadata": {},
   "outputs": [
    {
     "data": {
      "text/plain": [
       "'/Users/urmebose/Desktop/Style/P09/Nuro/sed_03.csv'"
      ]
     },
     "execution_count": 22,
     "metadata": {},
     "output_type": "execute_result"
    }
   ],
   "source": [
    "import pandas as pd\n",
    "\n",
    "# Load the txt file using ';' as delimiter\n",
    "file_path = '/Users/urmebose/Desktop/Style/P09/Nuro/sed_03.txt'\n",
    "df = pd.read_csv(file_path, delimiter=';')\n",
    "\n",
    "# Save the dataframe to a CSV file\n",
    "csv_file_path = '/Users/urmebose/Desktop/Style/P09/Nuro/sed_03.csv'\n",
    "df.to_csv(csv_file_path, index=False)\n",
    "\n",
    "csv_file_path"
   ]
  },
  {
   "cell_type": "code",
   "execution_count": 24,
   "id": "76d297e9-1189-4290-aa08-f3939e856443",
   "metadata": {},
   "outputs": [
    {
     "data": {
      "text/plain": [
       "'/Users/urmebose/Desktop/Style/P09/Nuro/ibi.csv'"
      ]
     },
     "execution_count": 24,
     "metadata": {},
     "output_type": "execute_result"
    }
   ],
   "source": [
    "import pandas as pd\n",
    "\n",
    "# Load the txt file using ';' as delimiter\n",
    "file_path = '/Users/urmebose/Desktop/Style/P09/Nuro/ibi.txt'\n",
    "df = pd.read_csv(file_path, delimiter=';')\n",
    "\n",
    "# Save the dataframe to a CSV file\n",
    "csv_file_path = '/Users/urmebose/Desktop/Style/P09/Nuro/ibi.csv'\n",
    "df.to_csv(csv_file_path, index=False)\n",
    "\n",
    "csv_file_path"
   ]
  },
  {
   "cell_type": "code",
   "execution_count": null,
   "id": "e6cb70dd-1532-49dd-a88c-cae7543f4ff6",
   "metadata": {},
   "outputs": [],
   "source": []
  }
 ],
 "metadata": {
  "kernelspec": {
   "display_name": "Python 3 (ipykernel)",
   "language": "python",
   "name": "python3"
  },
  "language_info": {
   "codemirror_mode": {
    "name": "ipython",
    "version": 3
   },
   "file_extension": ".py",
   "mimetype": "text/x-python",
   "name": "python",
   "nbconvert_exporter": "python",
   "pygments_lexer": "ipython3",
   "version": "3.11.7"
  }
 },
 "nbformat": 4,
 "nbformat_minor": 5
}
